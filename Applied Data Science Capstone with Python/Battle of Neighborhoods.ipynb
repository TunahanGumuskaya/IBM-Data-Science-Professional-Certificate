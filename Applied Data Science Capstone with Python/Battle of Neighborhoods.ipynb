{
 "cells": [
  {
   "cell_type": "markdown",
   "metadata": {},
   "source": [
    "# New York City vs Miami in terms of venues to visit"
   ]
  },
  {
   "cell_type": "markdown",
   "metadata": {},
   "source": [
    "## Introduction"
   ]
  },
  {
   "cell_type": "markdown",
   "metadata": {},
   "source": [
    "According to the Businessinsider article, many individuals are fleeing New York City and are moving to Florida as the pandemic makes remote work look more permanent. When people move to new places, they might not want to change their life style. The ones who get used to hanging out around some specific places in walking distance might want to be close to similar kind of places in their next location if they decide to move."
   ]
  },
  {
   "cell_type": "markdown",
   "metadata": {},
   "source": [
    "Referance article: https://www.businessinsider.com/pandemic-prompts-wall-street-to-look-south-for-floridas-life-and-work-benefits-2020-12"
   ]
  },
  {
   "cell_type": "markdown",
   "metadata": {},
   "source": [
    "With that in mind, I decided to analyze the venues similarities for each neighborhood between Manhattan and Miami for people who are thinking of moving to Miami from Manhattan."
   ]
  },
  {
   "cell_type": "markdown",
   "metadata": {},
   "source": [
    "## Data"
   ]
  },
  {
   "cell_type": "markdown",
   "metadata": {},
   "source": [
    "1) Geographical Coordinates and Postal Codes of each neighborhood in Miami and Manhattan- Wikipedia\n"
   ]
  },
  {
   "cell_type": "markdown",
   "metadata": {},
   "source": [
    "2) Venues name, venues location and venues category of each neighborhood in Miami and Manhattan- Foursquare "
   ]
  },
  {
   "cell_type": "code",
   "execution_count": null,
   "metadata": {},
   "outputs": [],
   "source": []
  }
 ],
 "metadata": {
  "kernelspec": {
   "display_name": "Python 3",
   "language": "python",
   "name": "python3"
  },
  "language_info": {
   "codemirror_mode": {
    "name": "ipython",
    "version": 3
   },
   "file_extension": ".py",
   "mimetype": "text/x-python",
   "name": "python",
   "nbconvert_exporter": "python",
   "pygments_lexer": "ipython3",
   "version": "3.8.5"
  }
 },
 "nbformat": 4,
 "nbformat_minor": 4
}
